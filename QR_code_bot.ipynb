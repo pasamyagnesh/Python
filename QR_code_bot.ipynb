{
  "nbformat": 4,
  "nbformat_minor": 0,
  "metadata": {
    "colab": {
      "provenance": [],
      "include_colab_link": true
    },
    "kernelspec": {
      "name": "python3",
      "display_name": "Python 3"
    },
    "language_info": {
      "name": "python"
    }
  },
  "cells": [
    {
      "cell_type": "markdown",
      "metadata": {
        "id": "view-in-github",
        "colab_type": "text"
      },
      "source": [
        "<a href=\"https://colab.research.google.com/github/yagnesh2004/Python/blob/main/QR_code_bot.ipynb\" target=\"_parent\"><img src=\"https://colab.research.google.com/assets/colab-badge.svg\" alt=\"Open In Colab\"/></a>"
      ]
    },
    {
      "cell_type": "code",
      "source": [
        "#AIMER Society - Indian Servers\n",
        "!pip install pyTelegramBotAPI\n",
        "!pip install openai"
      ],
      "metadata": {
        "id": "2amWtPxh-4ol",
        "colab": {
          "base_uri": "https://localhost:8080/"
        },
        "outputId": "1354c0f6-38a7-48c0-ca61-b39cb741fa13"
      },
      "execution_count": 1,
      "outputs": [
        {
          "output_type": "stream",
          "name": "stdout",
          "text": [
            "Looking in indexes: https://pypi.org/simple, https://us-python.pkg.dev/colab-wheels/public/simple/\n",
            "Collecting pyTelegramBotAPI\n",
            "  Downloading pyTelegramBotAPI-4.12.0.tar.gz (232 kB)\n",
            "\u001b[2K     \u001b[90m━━━━━━━━━━━━━━━━━━━━━━━━━━━━━━━━━━━━━━\u001b[0m \u001b[32m232.0/232.0 kB\u001b[0m \u001b[31m14.0 MB/s\u001b[0m eta \u001b[36m0:00:00\u001b[0m\n",
            "\u001b[?25h  Preparing metadata (setup.py) ... \u001b[?25l\u001b[?25hdone\n",
            "Requirement already satisfied: requests in /usr/local/lib/python3.10/dist-packages (from pyTelegramBotAPI) (2.27.1)\n",
            "Requirement already satisfied: urllib3<1.27,>=1.21.1 in /usr/local/lib/python3.10/dist-packages (from requests->pyTelegramBotAPI) (1.26.15)\n",
            "Requirement already satisfied: certifi>=2017.4.17 in /usr/local/lib/python3.10/dist-packages (from requests->pyTelegramBotAPI) (2022.12.7)\n",
            "Requirement already satisfied: charset-normalizer~=2.0.0 in /usr/local/lib/python3.10/dist-packages (from requests->pyTelegramBotAPI) (2.0.12)\n",
            "Requirement already satisfied: idna<4,>=2.5 in /usr/local/lib/python3.10/dist-packages (from requests->pyTelegramBotAPI) (3.4)\n",
            "Building wheels for collected packages: pyTelegramBotAPI\n",
            "  Building wheel for pyTelegramBotAPI (setup.py) ... \u001b[?25l\u001b[?25hdone\n",
            "  Created wheel for pyTelegramBotAPI: filename=pyTelegramBotAPI-4.12.0-py3-none-any.whl size=213956 sha256=77cf8ca02013b30d60979574a6ef7fcf0cca56c15f9a2692b7904da875decae5\n",
            "  Stored in directory: /root/.cache/pip/wheels/7e/ba/82/f3ab5bc48525778633bccc741c0424677ed3435736221819f4\n",
            "Successfully built pyTelegramBotAPI\n",
            "Installing collected packages: pyTelegramBotAPI\n",
            "Successfully installed pyTelegramBotAPI-4.12.0\n",
            "Looking in indexes: https://pypi.org/simple, https://us-python.pkg.dev/colab-wheels/public/simple/\n",
            "Collecting openai\n",
            "  Downloading openai-0.27.8-py3-none-any.whl (73 kB)\n",
            "\u001b[2K     \u001b[90m━━━━━━━━━━━━━━━━━━━━━━━━━━━━━━━━━━━━━━━━\u001b[0m \u001b[32m73.6/73.6 kB\u001b[0m \u001b[31m6.5 MB/s\u001b[0m eta \u001b[36m0:00:00\u001b[0m\n",
            "\u001b[?25hRequirement already satisfied: requests>=2.20 in /usr/local/lib/python3.10/dist-packages (from openai) (2.27.1)\n",
            "Requirement already satisfied: tqdm in /usr/local/lib/python3.10/dist-packages (from openai) (4.65.0)\n",
            "Collecting aiohttp (from openai)\n",
            "  Downloading aiohttp-3.8.4-cp310-cp310-manylinux_2_17_x86_64.manylinux2014_x86_64.whl (1.0 MB)\n",
            "\u001b[2K     \u001b[90m━━━━━━━━━━━━━━━━━━━━━━━━━━━━━━━━━━━━━━━━\u001b[0m \u001b[32m1.0/1.0 MB\u001b[0m \u001b[31m58.9 MB/s\u001b[0m eta \u001b[36m0:00:00\u001b[0m\n",
            "\u001b[?25hRequirement already satisfied: urllib3<1.27,>=1.21.1 in /usr/local/lib/python3.10/dist-packages (from requests>=2.20->openai) (1.26.15)\n",
            "Requirement already satisfied: certifi>=2017.4.17 in /usr/local/lib/python3.10/dist-packages (from requests>=2.20->openai) (2022.12.7)\n",
            "Requirement already satisfied: charset-normalizer~=2.0.0 in /usr/local/lib/python3.10/dist-packages (from requests>=2.20->openai) (2.0.12)\n",
            "Requirement already satisfied: idna<4,>=2.5 in /usr/local/lib/python3.10/dist-packages (from requests>=2.20->openai) (3.4)\n",
            "Requirement already satisfied: attrs>=17.3.0 in /usr/local/lib/python3.10/dist-packages (from aiohttp->openai) (23.1.0)\n",
            "Collecting multidict<7.0,>=4.5 (from aiohttp->openai)\n",
            "  Downloading multidict-6.0.4-cp310-cp310-manylinux_2_17_x86_64.manylinux2014_x86_64.whl (114 kB)\n",
            "\u001b[2K     \u001b[90m━━━━━━━━━━━━━━━━━━━━━━━━━━━━━━━━━━━━━━\u001b[0m \u001b[32m114.5/114.5 kB\u001b[0m \u001b[31m12.0 MB/s\u001b[0m eta \u001b[36m0:00:00\u001b[0m\n",
            "\u001b[?25hCollecting async-timeout<5.0,>=4.0.0a3 (from aiohttp->openai)\n",
            "  Downloading async_timeout-4.0.2-py3-none-any.whl (5.8 kB)\n",
            "Collecting yarl<2.0,>=1.0 (from aiohttp->openai)\n",
            "  Downloading yarl-1.9.2-cp310-cp310-manylinux_2_17_x86_64.manylinux2014_x86_64.whl (268 kB)\n",
            "\u001b[2K     \u001b[90m━━━━━━━━━━━━━━━━━━━━━━━━━━━━━━━━━━━━━━\u001b[0m \u001b[32m268.8/268.8 kB\u001b[0m \u001b[31m21.9 MB/s\u001b[0m eta \u001b[36m0:00:00\u001b[0m\n",
            "\u001b[?25hCollecting frozenlist>=1.1.1 (from aiohttp->openai)\n",
            "  Downloading frozenlist-1.3.3-cp310-cp310-manylinux_2_5_x86_64.manylinux1_x86_64.manylinux_2_17_x86_64.manylinux2014_x86_64.whl (149 kB)\n",
            "\u001b[2K     \u001b[90m━━━━━━━━━━━━━━━━━━━━━━━━━━━━━━━━━━━━━━\u001b[0m \u001b[32m149.6/149.6 kB\u001b[0m \u001b[31m15.1 MB/s\u001b[0m eta \u001b[36m0:00:00\u001b[0m\n",
            "\u001b[?25hCollecting aiosignal>=1.1.2 (from aiohttp->openai)\n",
            "  Downloading aiosignal-1.3.1-py3-none-any.whl (7.6 kB)\n",
            "Installing collected packages: multidict, frozenlist, async-timeout, yarl, aiosignal, aiohttp, openai\n",
            "Successfully installed aiohttp-3.8.4 aiosignal-1.3.1 async-timeout-4.0.2 frozenlist-1.3.3 multidict-6.0.4 openai-0.27.8 yarl-1.9.2\n"
          ]
        }
      ]
    },
    {
      "cell_type": "code",
      "source": [
        "import telebot\n",
        "import requests\n",
        "from io import BytesIO\n",
        "from PIL import Image, ImageEnhance, ImageFilter, ImageOps, ImageDraw\n",
        "\n",
        "bot = telebot.TeleBot('6039944533:AAFuNGLJTStcVnNXFR_Eca_WdZOXmEl8XVg')\n",
        "\n",
        "@bot.message_handler(content_types=['photo'])\n",
        "def handle_photo(message):\n",
        "    file_id = message.photo[-1].file_id\n",
        "    file_info = bot.get_file(file_id)\n",
        "    file = requests.get('https://api.telegram.org/file/bot{0}/{1}'.format(bot.token, file_info.file_path))\n",
        "    image = Image.open(BytesIO(file.content))\n",
        "    \n",
        "    # Apply brightness enhancement\n",
        "    enhancer = ImageEnhance.Brightness(image)\n",
        "    enhanced_image = enhancer.enhance(1.5)\n",
        "    \n",
        "    # Apply vintage effect\n",
        "    vintage_image = apply_vintage_effect(enhanced_image)\n",
        "    \n",
        "    # Save and send the processed image\n",
        "    vintage_image.save('vintage_image.jpg')\n",
        "    bot.send_photo(message.chat.id, open('vintage_image.jpg', 'rb'))\n",
        "\n",
        "def apply_vintage_effect(image):\n",
        "    # Convert to grayscale\n",
        "    image = image.convert('L')\n",
        "    \n",
        "    # Apply Sepia tone\n",
        "    sepia_tone = ImageOps.colorize(image, '#704214', '#C0A080')\n",
        "    \n",
        "    # Apply vignette effect\n",
        "    vignette_mask = Image.new('L', image.size, 0)\n",
        "    draw = ImageDraw.Draw(vignette_mask)\n",
        "    draw.ellipse((0, 0, image.width, image.height), fill=200)\n",
        "    vignette_mask = vignette_mask.filter(ImageFilter.GaussianBlur(150))\n",
        "    vignette_effect = Image.new('RGB', image.size, (20, 20, 20))\n",
        "    image = Image.composite(image, vignette_effect, vignette_mask)\n",
        "    \n",
        "    # Merge the sepia tone and vignette effect\n",
        "    vintage_image = Image.blend(image, sepia_tone, 0.5)\n",
        "    \n",
        "    return vintage_image\n",
        "\n",
        "bot.polling()\n"
      ],
      "metadata": {
        "id": "02_OosFQHnwT",
        "outputId": "00cf2c1f-741c-47e0-a315-e1322d6b88bf",
        "colab": {
          "base_uri": "https://localhost:8080/"
        }
      },
      "execution_count": null,
      "outputs": [
        {
          "output_type": "stream",
          "name": "stderr",
          "text": [
            "2023-05-31 09:19:26,890 (__init__.py:1083 MainThread) ERROR - TeleBot: \"Threaded polling exception: A request to the Telegram API was unsuccessful. Error code: 409. Description: Conflict: terminated by other getUpdates request; make sure that only one bot instance is running\"\n",
            "ERROR:TeleBot:Threaded polling exception: A request to the Telegram API was unsuccessful. Error code: 409. Description: Conflict: terminated by other getUpdates request; make sure that only one bot instance is running\n",
            "2023-05-31 09:19:26,894 (__init__.py:1085 MainThread) ERROR - TeleBot: \"Exception traceback:\n",
            "Traceback (most recent call last):\n",
            "  File \"/usr/local/lib/python3.10/dist-packages/telebot/__init__.py\", line 1073, in __threaded_polling\n",
            "    polling_thread.raise_exceptions()\n",
            "  File \"/usr/local/lib/python3.10/dist-packages/telebot/util.py\", line 108, in raise_exceptions\n",
            "    raise self.exception_info\n",
            "  File \"/usr/local/lib/python3.10/dist-packages/telebot/util.py\", line 90, in run\n",
            "    task(*args, **kwargs)\n",
            "  File \"/usr/local/lib/python3.10/dist-packages/telebot/__init__.py\", line 649, in __retrieve_updates\n",
            "    updates = self.get_updates(offset=(self.last_update_id + 1),\n",
            "  File \"/usr/local/lib/python3.10/dist-packages/telebot/__init__.py\", line 623, in get_updates\n",
            "    json_updates = apihelper.get_updates(self.token, offset, limit, timeout, allowed_updates, long_polling_timeout)\n",
            "  File \"/usr/local/lib/python3.10/dist-packages/telebot/apihelper.py\", line 321, in get_updates\n",
            "    return _make_request(token, method_url, params=payload)\n",
            "  File \"/usr/local/lib/python3.10/dist-packages/telebot/apihelper.py\", line 162, in _make_request\n",
            "    json_result = _check_result(method_name, result)\n",
            "  File \"/usr/local/lib/python3.10/dist-packages/telebot/apihelper.py\", line 189, in _check_result\n",
            "    raise ApiTelegramException(method_name, result, result_json)\n",
            "telebot.apihelper.ApiTelegramException: A request to the Telegram API was unsuccessful. Error code: 409. Description: Conflict: terminated by other getUpdates request; make sure that only one bot instance is running\n",
            "\"\n",
            "ERROR:TeleBot:Exception traceback:\n",
            "Traceback (most recent call last):\n",
            "  File \"/usr/local/lib/python3.10/dist-packages/telebot/__init__.py\", line 1073, in __threaded_polling\n",
            "    polling_thread.raise_exceptions()\n",
            "  File \"/usr/local/lib/python3.10/dist-packages/telebot/util.py\", line 108, in raise_exceptions\n",
            "    raise self.exception_info\n",
            "  File \"/usr/local/lib/python3.10/dist-packages/telebot/util.py\", line 90, in run\n",
            "    task(*args, **kwargs)\n",
            "  File \"/usr/local/lib/python3.10/dist-packages/telebot/__init__.py\", line 649, in __retrieve_updates\n",
            "    updates = self.get_updates(offset=(self.last_update_id + 1),\n",
            "  File \"/usr/local/lib/python3.10/dist-packages/telebot/__init__.py\", line 623, in get_updates\n",
            "    json_updates = apihelper.get_updates(self.token, offset, limit, timeout, allowed_updates, long_polling_timeout)\n",
            "  File \"/usr/local/lib/python3.10/dist-packages/telebot/apihelper.py\", line 321, in get_updates\n",
            "    return _make_request(token, method_url, params=payload)\n",
            "  File \"/usr/local/lib/python3.10/dist-packages/telebot/apihelper.py\", line 162, in _make_request\n",
            "    json_result = _check_result(method_name, result)\n",
            "  File \"/usr/local/lib/python3.10/dist-packages/telebot/apihelper.py\", line 189, in _check_result\n",
            "    raise ApiTelegramException(method_name, result, result_json)\n",
            "telebot.apihelper.ApiTelegramException: A request to the Telegram API was unsuccessful. Error code: 409. Description: Conflict: terminated by other getUpdates request; make sure that only one bot instance is running\n",
            "\n"
          ]
        }
      ]
    }
  ]
}