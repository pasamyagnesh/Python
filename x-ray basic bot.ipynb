{
  "nbformat": 4,
  "nbformat_minor": 0,
  "metadata": {
    "colab": {
      "provenance": [],
      "include_colab_link": true
    },
    "kernelspec": {
      "name": "python3",
      "display_name": "Python 3"
    },
    "language_info": {
      "name": "python"
    }
  },
  "cells": [
    {
      "cell_type": "markdown",
      "metadata": {
        "id": "view-in-github",
        "colab_type": "text"
      },
      "source": [
        "<a href=\"https://colab.research.google.com/github/yagnesh2004/Python/blob/main/x-ray%20basic%20bot.ipynb\" target=\"_parent\"><img src=\"https://colab.research.google.com/assets/colab-badge.svg\" alt=\"Open In Colab\"/></a>"
      ]
    },
    {
      "cell_type": "code",
      "source": [
        "#AIMER Society - Indian Servers\n",
        "!pip install pyTelegramBotAPI\n",
        "!pip install openai\n",
        "!pip install opencage\n",
        "import numpy as np\n"
      ],
      "metadata": {
        "id": "2amWtPxh-4ol",
        "colab": {
          "base_uri": "https://localhost:8080/"
        },
        "outputId": "8cdd702d-5587-4dad-ff56-790840e9b311"
      },
      "execution_count": 13,
      "outputs": [
        {
          "output_type": "stream",
          "name": "stdout",
          "text": [
            "Looking in indexes: https://pypi.org/simple, https://us-python.pkg.dev/colab-wheels/public/simple/\n",
            "Requirement already satisfied: pyTelegramBotAPI in /usr/local/lib/python3.10/dist-packages (4.12.0)\n",
            "Requirement already satisfied: requests in /usr/local/lib/python3.10/dist-packages (from pyTelegramBotAPI) (2.27.1)\n",
            "Requirement already satisfied: urllib3<1.27,>=1.21.1 in /usr/local/lib/python3.10/dist-packages (from requests->pyTelegramBotAPI) (1.26.15)\n",
            "Requirement already satisfied: certifi>=2017.4.17 in /usr/local/lib/python3.10/dist-packages (from requests->pyTelegramBotAPI) (2022.12.7)\n",
            "Requirement already satisfied: charset-normalizer~=2.0.0 in /usr/local/lib/python3.10/dist-packages (from requests->pyTelegramBotAPI) (2.0.12)\n",
            "Requirement already satisfied: idna<4,>=2.5 in /usr/local/lib/python3.10/dist-packages (from requests->pyTelegramBotAPI) (3.4)\n",
            "Looking in indexes: https://pypi.org/simple, https://us-python.pkg.dev/colab-wheels/public/simple/\n",
            "Requirement already satisfied: openai in /usr/local/lib/python3.10/dist-packages (0.27.7)\n",
            "Requirement already satisfied: requests>=2.20 in /usr/local/lib/python3.10/dist-packages (from openai) (2.27.1)\n",
            "Requirement already satisfied: tqdm in /usr/local/lib/python3.10/dist-packages (from openai) (4.65.0)\n",
            "Requirement already satisfied: aiohttp in /usr/local/lib/python3.10/dist-packages (from openai) (3.8.4)\n",
            "Requirement already satisfied: urllib3<1.27,>=1.21.1 in /usr/local/lib/python3.10/dist-packages (from requests>=2.20->openai) (1.26.15)\n",
            "Requirement already satisfied: certifi>=2017.4.17 in /usr/local/lib/python3.10/dist-packages (from requests>=2.20->openai) (2022.12.7)\n",
            "Requirement already satisfied: charset-normalizer~=2.0.0 in /usr/local/lib/python3.10/dist-packages (from requests>=2.20->openai) (2.0.12)\n",
            "Requirement already satisfied: idna<4,>=2.5 in /usr/local/lib/python3.10/dist-packages (from requests>=2.20->openai) (3.4)\n",
            "Requirement already satisfied: attrs>=17.3.0 in /usr/local/lib/python3.10/dist-packages (from aiohttp->openai) (23.1.0)\n",
            "Requirement already satisfied: multidict<7.0,>=4.5 in /usr/local/lib/python3.10/dist-packages (from aiohttp->openai) (6.0.4)\n",
            "Requirement already satisfied: async-timeout<5.0,>=4.0.0a3 in /usr/local/lib/python3.10/dist-packages (from aiohttp->openai) (4.0.2)\n",
            "Requirement already satisfied: yarl<2.0,>=1.0 in /usr/local/lib/python3.10/dist-packages (from aiohttp->openai) (1.9.2)\n",
            "Requirement already satisfied: frozenlist>=1.1.1 in /usr/local/lib/python3.10/dist-packages (from aiohttp->openai) (1.3.3)\n",
            "Requirement already satisfied: aiosignal>=1.1.2 in /usr/local/lib/python3.10/dist-packages (from aiohttp->openai) (1.3.1)\n",
            "Looking in indexes: https://pypi.org/simple, https://us-python.pkg.dev/colab-wheels/public/simple/\n",
            "Requirement already satisfied: opencage in /usr/local/lib/python3.10/dist-packages (2.2.0)\n",
            "Requirement already satisfied: Requests>=2.26.0 in /usr/local/lib/python3.10/dist-packages (from opencage) (2.27.1)\n",
            "Requirement already satisfied: backoff>=1.10.0 in /usr/local/lib/python3.10/dist-packages (from opencage) (2.2.1)\n",
            "Requirement already satisfied: urllib3<1.27,>=1.21.1 in /usr/local/lib/python3.10/dist-packages (from Requests>=2.26.0->opencage) (1.26.15)\n",
            "Requirement already satisfied: certifi>=2017.4.17 in /usr/local/lib/python3.10/dist-packages (from Requests>=2.26.0->opencage) (2022.12.7)\n",
            "Requirement already satisfied: charset-normalizer~=2.0.0 in /usr/local/lib/python3.10/dist-packages (from Requests>=2.26.0->opencage) (2.0.12)\n",
            "Requirement already satisfied: idna<4,>=2.5 in /usr/local/lib/python3.10/dist-packages (from Requests>=2.26.0->opencage) (3.4)\n"
          ]
        }
      ]
    },
    {
      "cell_type": "code",
      "source": [
        "import telebot\n",
        "from PIL import Image\n",
        "import cv2\n",
        "import numpy as np\n",
        "\n",
        "bot = telebot.TeleBot('5971930384:AAGr3C1Vt4JnXWulQjGCKx7eHuD86CDOVfg')\n",
        "\n",
        "def analyze_image(image):\n",
        "    # Implement your image analysis algorithm here\n",
        "    # Return the analysis results as a string\n",
        "\n",
        "    # Example: Placeholder algorithm that always returns 'X-ray image detected'\n",
        "    return 'X-ray image detected'\n",
        "\n",
        "@bot.message_handler(commands=['start'])\n",
        "def handle_start(message):\n",
        "    bot.reply_to(message, \"Welcome! Please upload an X-ray or scanned image.\")\n",
        "\n",
        "@bot.message_handler(content_types=['photo'])\n",
        "def handle_photo(message):\n",
        "    # Get the file ID of the uploaded photo\n",
        "    file_id = message.photo[-1].file_id\n",
        "\n",
        "    # Get the file path of the photo\n",
        "    file_info = bot.get_file(file_id)\n",
        "    file_path = file_info.file_path\n",
        "\n",
        "    # Download the photo\n",
        "    photo_url = f\"https://api.telegram.org/file/bot{bot.token}/{file_path}\"\n",
        "    response = requests.get(photo_url)\n",
        "    photo_data = response.content\n",
        "\n",
        "    # Analyze the image\n",
        "    img = Image.open(BytesIO(photo_data))\n",
        "    image_cv2 = cv2.cvtColor(np.array(img), cv2.COLOR_RGB2BGR)\n",
        "    analysis_result = analyze_image(image_cv2)\n",
        "\n",
        "    # Reply with the analysis result\n",
        "    bot.reply_to(message, f\"Image analysis result:\\n{analysis_result}\")\n",
        "\n",
        "bot.polling()\n"
      ],
      "metadata": {
        "id": "02_OosFQHnwT"
      },
      "execution_count": null,
      "outputs": []
    }
  ]
}