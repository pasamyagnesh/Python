{
  "nbformat": 4,
  "nbformat_minor": 0,
  "metadata": {
    "colab": {
      "provenance": [],
      "include_colab_link": true
    },
    "kernelspec": {
      "name": "python3",
      "display_name": "Python 3"
    },
    "language_info": {
      "name": "python"
    }
  },
  "cells": [
    {
      "cell_type": "markdown",
      "metadata": {
        "id": "view-in-github",
        "colab_type": "text"
      },
      "source": [
        "<a href=\"https://colab.research.google.com/github/yagnesh2004/Python/blob/main/medical_telegram_bot.ipynb\" target=\"_parent\"><img src=\"https://colab.research.google.com/assets/colab-badge.svg\" alt=\"Open In Colab\"/></a>"
      ]
    },
    {
      "cell_type": "code",
      "source": [
        "#AIMER Society - Indian Servers\n",
        "!pip install pyTelegramBotAPI\n",
        "!pip install openai\n",
        "!pip install opencage"
      ],
      "metadata": {
        "id": "2amWtPxh-4ol",
        "colab": {
          "base_uri": "https://localhost:8080/"
        },
        "outputId": "6737d4f9-1a66-40e6-a394-671857d8f482"
      },
      "execution_count": 12,
      "outputs": [
        {
          "output_type": "stream",
          "name": "stdout",
          "text": [
            "Looking in indexes: https://pypi.org/simple, https://us-python.pkg.dev/colab-wheels/public/simple/\n",
            "Requirement already satisfied: pyTelegramBotAPI in /usr/local/lib/python3.10/dist-packages (4.12.0)\n",
            "Requirement already satisfied: requests in /usr/local/lib/python3.10/dist-packages (from pyTelegramBotAPI) (2.27.1)\n",
            "Requirement already satisfied: urllib3<1.27,>=1.21.1 in /usr/local/lib/python3.10/dist-packages (from requests->pyTelegramBotAPI) (1.26.15)\n",
            "Requirement already satisfied: certifi>=2017.4.17 in /usr/local/lib/python3.10/dist-packages (from requests->pyTelegramBotAPI) (2022.12.7)\n",
            "Requirement already satisfied: charset-normalizer~=2.0.0 in /usr/local/lib/python3.10/dist-packages (from requests->pyTelegramBotAPI) (2.0.12)\n",
            "Requirement already satisfied: idna<4,>=2.5 in /usr/local/lib/python3.10/dist-packages (from requests->pyTelegramBotAPI) (3.4)\n",
            "Looking in indexes: https://pypi.org/simple, https://us-python.pkg.dev/colab-wheels/public/simple/\n",
            "Requirement already satisfied: openai in /usr/local/lib/python3.10/dist-packages (0.27.7)\n",
            "Requirement already satisfied: requests>=2.20 in /usr/local/lib/python3.10/dist-packages (from openai) (2.27.1)\n",
            "Requirement already satisfied: tqdm in /usr/local/lib/python3.10/dist-packages (from openai) (4.65.0)\n",
            "Requirement already satisfied: aiohttp in /usr/local/lib/python3.10/dist-packages (from openai) (3.8.4)\n",
            "Requirement already satisfied: urllib3<1.27,>=1.21.1 in /usr/local/lib/python3.10/dist-packages (from requests>=2.20->openai) (1.26.15)\n",
            "Requirement already satisfied: certifi>=2017.4.17 in /usr/local/lib/python3.10/dist-packages (from requests>=2.20->openai) (2022.12.7)\n",
            "Requirement already satisfied: charset-normalizer~=2.0.0 in /usr/local/lib/python3.10/dist-packages (from requests>=2.20->openai) (2.0.12)\n",
            "Requirement already satisfied: idna<4,>=2.5 in /usr/local/lib/python3.10/dist-packages (from requests>=2.20->openai) (3.4)\n",
            "Requirement already satisfied: attrs>=17.3.0 in /usr/local/lib/python3.10/dist-packages (from aiohttp->openai) (23.1.0)\n",
            "Requirement already satisfied: multidict<7.0,>=4.5 in /usr/local/lib/python3.10/dist-packages (from aiohttp->openai) (6.0.4)\n",
            "Requirement already satisfied: async-timeout<5.0,>=4.0.0a3 in /usr/local/lib/python3.10/dist-packages (from aiohttp->openai) (4.0.2)\n",
            "Requirement already satisfied: yarl<2.0,>=1.0 in /usr/local/lib/python3.10/dist-packages (from aiohttp->openai) (1.9.2)\n",
            "Requirement already satisfied: frozenlist>=1.1.1 in /usr/local/lib/python3.10/dist-packages (from aiohttp->openai) (1.3.3)\n",
            "Requirement already satisfied: aiosignal>=1.1.2 in /usr/local/lib/python3.10/dist-packages (from aiohttp->openai) (1.3.1)\n",
            "Looking in indexes: https://pypi.org/simple, https://us-python.pkg.dev/colab-wheels/public/simple/\n",
            "Collecting opencage\n",
            "  Downloading opencage-2.2.0-py3-none-any.whl (14 kB)\n",
            "Requirement already satisfied: Requests>=2.26.0 in /usr/local/lib/python3.10/dist-packages (from opencage) (2.27.1)\n",
            "Collecting backoff>=1.10.0 (from opencage)\n",
            "  Downloading backoff-2.2.1-py3-none-any.whl (15 kB)\n",
            "Requirement already satisfied: urllib3<1.27,>=1.21.1 in /usr/local/lib/python3.10/dist-packages (from Requests>=2.26.0->opencage) (1.26.15)\n",
            "Requirement already satisfied: certifi>=2017.4.17 in /usr/local/lib/python3.10/dist-packages (from Requests>=2.26.0->opencage) (2022.12.7)\n",
            "Requirement already satisfied: charset-normalizer~=2.0.0 in /usr/local/lib/python3.10/dist-packages (from Requests>=2.26.0->opencage) (2.0.12)\n",
            "Requirement already satisfied: idna<4,>=2.5 in /usr/local/lib/python3.10/dist-packages (from Requests>=2.26.0->opencage) (3.4)\n",
            "Installing collected packages: backoff, opencage\n",
            "Successfully installed backoff-2.2.1 opencage-2.2.0\n"
          ]
        }
      ]
    },
    {
      "cell_type": "code",
      "source": [
        "import telebot\n",
        "from opencage.geocoder import OpenCageGeocode\n",
        "from geopy.distance import geodesic\n",
        "\n",
        "bot = telebot.TeleBot('6049992217:AAGnHYo1-_vYvKoqIkm0NixoBTrBjra0y34')\n",
        "\n",
        "def get_nearby_emergency_services(latitude, longitude):\n",
        "    # Search radius in meters\n",
        "    radius = 10000\n",
        "\n",
        "    # Get hospitals within the search radius\n",
        "    hospitals = get_places_nearby(latitude, longitude, \"hospital\", radius)\n",
        "    # Get clinics within the search radius\n",
        "    clinics = get_places_nearby(latitude, longitude, \"clinic\", radius)\n",
        "    # Get pharmacies within the search radius\n",
        "    pharmacies = get_places_nearby(latitude, longitude, \"pharmacy\", radius)\n",
        "    # Get ambulances within the search radius\n",
        "    ambulances = get_places_nearby(latitude, longitude, \"ambulance\", radius)\n",
        "\n",
        "    return {\n",
        "        \"Hospital\": hospitals,\n",
        "        \"Clinic\": clinics,\n",
        "        \"Pharmacy\": pharmacies,\n",
        "        \"Ambulance\": ambulances\n",
        "    }\n",
        "\n",
        "def get_places_nearby(latitude, longitude, keyword, radius):\n",
        "    geocoder = OpenCageGeocode('71b7bcbe92e947e897df5e480be8a06a')\n",
        "    results = geocoder.reverse_geocode(latitude, longitude)\n",
        "    address = results[0]['formatted']\n",
        "\n",
        "    places = []\n",
        "    places_raw = geocoder.geocode(address, no_annotations=1, limit=10, countrycode='in', q=keyword)\n",
        "    for place in places_raw:\n",
        "        place_address = place['formatted']\n",
        "        place_coords = (place['geometry']['lat'], place['geometry']['lng'])\n",
        "        distance = calculate_distance((latitude, longitude), place_coords)\n",
        "        places.append({\"address\": place_address, \"distance\": distance})\n",
        "\n",
        "    places.sort(key=lambda x: x[\"distance\"])\n",
        "\n",
        "    return places\n",
        "\n",
        "def calculate_distance(coords1, coords2):\n",
        "    return round(geodesic(coords1, coords2).kilometers, 2)\n",
        "\n",
        "@bot.message_handler(commands=['start'])\n",
        "def handle_start(message):\n",
        "    bot.reply_to(message, \"Welcome! Please share your location to find nearby emergency services.\")\n",
        "\n",
        "@bot.message_handler(content_types=['location'])\n",
        "def handle_location(message):\n",
        "    latitude = message.location.latitude\n",
        "    longitude = message.location.longitude\n",
        "\n",
        "    # Get nearby emergency services\n",
        "    places = get_nearby_emergency_services(latitude, longitude)\n",
        "\n",
        "    if places:\n",
        "        response = \"Nearby emergency services:\\n\\n\"\n",
        "        for category, places_list in places.items():\n",
        "            if places_list:\n",
        "                response += category + \":\\n\"\n",
        "                for place in places_list:\n",
        "                    response += \"- {} (Distance: {} km)\\n\".format(place[\"address\"], place[\"distance\"])\n",
        "                response += \"\\n\"\n",
        "        else:\n",
        "            response = \"No emergency services found nearby.\"\n",
        "    else:\n",
        "        response = \"Error occurred while fetching emergency services.\"\n",
        "\n",
        "    bot.reply_to(message, response)\n",
        "\n",
        "bot.polling()\n"
      ],
      "metadata": {
        "id": "02_OosFQHnwT"
      },
      "execution_count": null,
      "outputs": []
    }
  ]
}